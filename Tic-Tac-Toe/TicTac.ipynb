{
 "cells": [
  {
   "cell_type": "code",
   "execution_count": 1,
   "metadata": {},
   "outputs": [
    {
     "name": "stdout",
     "output_type": "stream",
     "text": [
      "0|1|2\n",
      "-----\n",
      "3|4|5\n",
      "-----\n",
      "6|7|8\n"
     ]
    }
   ],
   "source": [
    "import random\n",
    "from itertools import permutations\n",
    "for i in range(0,9,3):\n",
    "    print(str(i)+\"|\"+str(i+1)+\"|\"+str(i+2))\n",
    "    if not(i>4):\n",
    "        print(\"-----\")"
   ]
  },
  {
   "cell_type": "code",
   "execution_count": 2,
   "metadata": {},
   "outputs": [
    {
     "name": "stdout",
     "output_type": "stream",
     "text": [
      "[0, 1, 2, 3, 4, 5, 6, 7, 8]\n",
      "Where you wanna play? 3\n",
      "[0, 1, 2, 4, 5, 6, 7, 8]\n",
      "0\n",
      "[1, 2, 4, 5, 6, 7, 8]\n",
      "Where you wanna play? 8\n",
      "[1, 2, 4, 5, 6, 7]\n",
      "4\n",
      "[1, 2, 5, 6, 7]\n",
      "Where you wanna play? 5\n",
      "[1, 2, 6, 7]\n",
      "2\n",
      "[1, 6, 7]\n",
      "Where you wanna play? 7\n",
      "[1, 6]\n",
      "6\n",
      "[1]\n",
      "Computer wins\n"
     ]
    }
   ],
   "source": [
    "wincomb=[[0,1,2],[3,4,5],[6,7,8],[0,3,6],[1,4,7],[2,5,8],[2,4,6],[0,4,8]]\n",
    "posmov=list(range(9))\n",
    "userhistory=[]\n",
    "comphistory=[]\n",
    "print(posmov)\n",
    "winf=0\n",
    "while (winf==0 and not(posmov)==[]):\n",
    "    user=input(\"Where you wanna play? \")\n",
    "    userhistory.append(int(user))\n",
    "    #print(userhistory)\n",
    "    if(len(userhistory)>=3):\n",
    "        permu = permutations(userhistory, 3)\n",
    "        for i in list(permu):\n",
    "            if list(i) in wincomb:\n",
    "                winf=1\n",
    "                print (\"User wins\")        \n",
    "    posmov.remove(int(user))\n",
    "    print(posmov)\n",
    "    comp=random.choice(posmov)\n",
    "    print(comp)\n",
    "    comphistory.append(int(comp))\n",
    "    posmov.remove(int(comp))\n",
    "    print(posmov)\n",
    "    if(len(userhistory)>=3):\n",
    "        permc = permutations(comphistory, 3)\n",
    "        for j in list(permc):\n",
    "            if list(j) in wincomb:\n",
    "                winf=1\n",
    "                print (\"Computer wins\") "
   ]
  },
  {
   "cell_type": "markdown",
   "metadata": {},
   "source": []
  },
  {
   "cell_type": "code",
   "execution_count": null,
   "metadata": {},
   "outputs": [],
   "source": []
  }
 ],
 "metadata": {
  "kernelspec": {
   "display_name": "Python 3",
   "language": "python",
   "name": "python3"
  },
  "language_info": {
   "codemirror_mode": {
    "name": "ipython",
    "version": 3
   },
   "file_extension": ".py",
   "mimetype": "text/x-python",
   "name": "python",
   "nbconvert_exporter": "python",
   "pygments_lexer": "ipython3",
   "version": "3.7.3"
  }
 },
 "nbformat": 4,
 "nbformat_minor": 2
}
