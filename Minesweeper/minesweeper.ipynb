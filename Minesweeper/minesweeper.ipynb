{
 "cells": [
  {
   "cell_type": "code",
   "execution_count": 1,
   "metadata": {},
   "outputs": [
    {
     "name": "stdout",
     "output_type": "stream",
     "text": [
      "X X X X X X X X\n",
      "X X X X X X X X\n",
      "X X X X X X X X\n",
      "X X X X X X X X\n",
      "X X X X X X X X\n",
      "X X X X X X X X\n",
      "X X X X X X X X\n",
      "X X X X X X X X\n",
      "[(5, 4), (6, 2), (1, 6), (3, 6), (7, 0), (0, 2), (6, 6), (0, 6), (1, 0), (1, 1)]\n",
      "Enter where you wanna play(x,y): 4,5\n",
      "X X X X X X X X\n",
      "X X X X X X X X\n",
      "X X X X X X X X\n",
      "X X X X X X X X\n",
      "X X X X X 2 X X\n",
      "X X X X X X X X\n",
      "X X X X X X X X\n",
      "X X X X X X X X\n"
     ]
    }
   ],
   "source": [
    "import random\n",
    "bombs=[]\n",
    "n=8\n",
    "arr=[[0 for row in range(n)] for col in range(n)]\n",
    "arr1=[['X' for row in range(n)] for col in range(n)]\n",
    "for row in arr1:\n",
    "    print(' '.join([str(elem) for elem in row]))\n",
    "for i in range (10):\n",
    "    x=random.randint(0,7)\n",
    "    y=random.randint(0,7)\n",
    "    bombs.append((x,y))\n",
    "    #print(bombs)\n",
    "    arr[x][y]=9\n",
    "    if (x!=0):\n",
    "        arr[x-1][y]=arr[x-1][y]+1\n",
    "    if (y!=0):\n",
    "        arr[x][y-1]=arr[x][y-1]+1\n",
    "    if(x!=(n-1)):\n",
    "        arr[x+1][y]=arr[x+1][y]+1\n",
    "    if(y!=(n-1)):\n",
    "        arr[x][y+1]=arr[x][y+1]+1\n",
    "    if(not(x==0 or y==0)):#bottom right\n",
    "        if(((x!=0 and y!=0) or (x!=(n-1) and y!=0) or (x!=0 and y!=(n-1)))):\n",
    "            arr[x-1][y-1]=arr[x-1][y-1]+1\n",
    "    if((x!=0 and y!=0) or (x!=(n-1) and y!=0) or (x!=(n-1) and y!=(n-1))):#top right\n",
    "        if(not(x==0 or y==(n-1))):\n",
    "            arr[x-1][y+1]=arr[x-1][y+1]+1\n",
    "    if((x!=0 and y!=0) or (x!=0 and y!=(n-1)) or (x!=(n-1) and y!=(n-1))):#bottom left\n",
    "        if(not(x==(n-1) or y==0)):\n",
    "            arr[x+1][y-1]=arr[x+1][y-1]+1\n",
    "    if((x!=(n-1) and y!=0) or (x!=0 and y!=(n-1)) or (x!=(n-1) and y!=(n-1))):#top left\n",
    "        if(not(x==(n-1) or y==(n-1))):\n",
    "            arr[x+1][y+1]=arr[x+1][y+1]+1\n",
    "#for row in arr:\n",
    "#    print(' '.join([str(elem) for elem in row]))\n",
    "print(bombs)\n",
    "\n",
    "x1i, y1i = input(\"Enter where you wanna play(x,y): \").split(',')\n",
    "x1=int(x1i)\n",
    "y1=int(y1i)\n",
    "if ((x1,y1) in bombs):\n",
    "    print(\"You fucking loser\")\n",
    "elif (arr[x1][y1]!=0):\n",
    "    arr1[x1][y1]=str(arr[x1][y1])\n",
    "\n",
    "for row in arr1:\n",
    "    print(' '.join([str(elem) for elem in row]))"
   ]
  },
  {
   "cell_type": "code",
   "execution_count": null,
   "metadata": {},
   "outputs": [],
   "source": [
    "\n"
   ]
  },
  {
   "cell_type": "code",
   "execution_count": null,
   "metadata": {},
   "outputs": [],
   "source": []
  },
  {
   "cell_type": "code",
   "execution_count": null,
   "metadata": {},
   "outputs": [],
   "source": []
  }
 ],
 "metadata": {
  "kernelspec": {
   "display_name": "Python 3",
   "language": "python",
   "name": "python3"
  },
  "language_info": {
   "codemirror_mode": {
    "name": "ipython",
    "version": 3
   },
   "file_extension": ".py",
   "mimetype": "text/x-python",
   "name": "python",
   "nbconvert_exporter": "python",
   "pygments_lexer": "ipython3",
   "version": "3.7.3"
  }
 },
 "nbformat": 4,
 "nbformat_minor": 2
}
